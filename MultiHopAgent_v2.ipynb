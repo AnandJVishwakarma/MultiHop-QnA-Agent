{
  "nbformat": 4,
  "nbformat_minor": 0,
  "metadata": {
    "colab": {
      "provenance": []
    },
    "kernelspec": {
      "name": "python3",
      "display_name": "Python 3"
    },
    "language_info": {
      "name": "python"
    }
  },
  "cells": [
    {
      "cell_type": "code",
      "execution_count": null,
      "metadata": {
        "colab": {
          "base_uri": "https://localhost:8080/"
        },
        "id": "vsxjRKgCh4vL",
        "outputId": "e3385ff1-91d1-49c0-f72f-2cc75e30ed51"
      },
      "outputs": [
        {
          "output_type": "stream",
          "name": "stdout",
          "text": [
            "Collecting langchain-community\n",
            "  Downloading langchain_community-0.3.17-py3-none-any.whl.metadata (2.4 kB)\n",
            "Collecting langchain-core<1.0.0,>=0.3.34 (from langchain-community)\n",
            "  Downloading langchain_core-0.3.34-py3-none-any.whl.metadata (5.9 kB)\n",
            "Collecting langchain<1.0.0,>=0.3.18 (from langchain-community)\n",
            "  Downloading langchain-0.3.18-py3-none-any.whl.metadata (7.8 kB)\n",
            "Requirement already satisfied: SQLAlchemy<3,>=1.4 in /usr/local/lib/python3.11/dist-packages (from langchain-community) (2.0.37)\n",
            "Requirement already satisfied: requests<3,>=2 in /usr/local/lib/python3.11/dist-packages (from langchain-community) (2.32.3)\n",
            "Requirement already satisfied: PyYAML>=5.3 in /usr/local/lib/python3.11/dist-packages (from langchain-community) (6.0.2)\n",
            "Requirement already satisfied: aiohttp<4.0.0,>=3.8.3 in /usr/local/lib/python3.11/dist-packages (from langchain-community) (3.11.11)\n",
            "Requirement already satisfied: tenacity!=8.4.0,<10,>=8.1.0 in /usr/local/lib/python3.11/dist-packages (from langchain-community) (9.0.0)\n",
            "Collecting dataclasses-json<0.7,>=0.5.7 (from langchain-community)\n",
            "  Downloading dataclasses_json-0.6.7-py3-none-any.whl.metadata (25 kB)\n",
            "Collecting pydantic-settings<3.0.0,>=2.4.0 (from langchain-community)\n",
            "  Downloading pydantic_settings-2.7.1-py3-none-any.whl.metadata (3.5 kB)\n",
            "Requirement already satisfied: langsmith<0.4,>=0.1.125 in /usr/local/lib/python3.11/dist-packages (from langchain-community) (0.3.5)\n",
            "Collecting httpx-sse<1.0.0,>=0.4.0 (from langchain-community)\n",
            "  Downloading httpx_sse-0.4.0-py3-none-any.whl.metadata (9.0 kB)\n",
            "Requirement already satisfied: numpy<2,>=1.26.4 in /usr/local/lib/python3.11/dist-packages (from langchain-community) (1.26.4)\n",
            "Requirement already satisfied: aiohappyeyeballs>=2.3.0 in /usr/local/lib/python3.11/dist-packages (from aiohttp<4.0.0,>=3.8.3->langchain-community) (2.4.4)\n",
            "Requirement already satisfied: aiosignal>=1.1.2 in /usr/local/lib/python3.11/dist-packages (from aiohttp<4.0.0,>=3.8.3->langchain-community) (1.3.2)\n",
            "Requirement already satisfied: attrs>=17.3.0 in /usr/local/lib/python3.11/dist-packages (from aiohttp<4.0.0,>=3.8.3->langchain-community) (25.1.0)\n",
            "Requirement already satisfied: frozenlist>=1.1.1 in /usr/local/lib/python3.11/dist-packages (from aiohttp<4.0.0,>=3.8.3->langchain-community) (1.5.0)\n",
            "Requirement already satisfied: multidict<7.0,>=4.5 in /usr/local/lib/python3.11/dist-packages (from aiohttp<4.0.0,>=3.8.3->langchain-community) (6.1.0)\n",
            "Requirement already satisfied: propcache>=0.2.0 in /usr/local/lib/python3.11/dist-packages (from aiohttp<4.0.0,>=3.8.3->langchain-community) (0.2.1)\n",
            "Requirement already satisfied: yarl<2.0,>=1.17.0 in /usr/local/lib/python3.11/dist-packages (from aiohttp<4.0.0,>=3.8.3->langchain-community) (1.18.3)\n",
            "Collecting marshmallow<4.0.0,>=3.18.0 (from dataclasses-json<0.7,>=0.5.7->langchain-community)\n",
            "  Downloading marshmallow-3.26.1-py3-none-any.whl.metadata (7.3 kB)\n",
            "Collecting typing-inspect<1,>=0.4.0 (from dataclasses-json<0.7,>=0.5.7->langchain-community)\n",
            "  Downloading typing_inspect-0.9.0-py3-none-any.whl.metadata (1.5 kB)\n",
            "Collecting langchain-text-splitters<1.0.0,>=0.3.6 (from langchain<1.0.0,>=0.3.18->langchain-community)\n",
            "  Downloading langchain_text_splitters-0.3.6-py3-none-any.whl.metadata (1.9 kB)\n",
            "Requirement already satisfied: pydantic<3.0.0,>=2.7.4 in /usr/local/lib/python3.11/dist-packages (from langchain<1.0.0,>=0.3.18->langchain-community) (2.10.6)\n",
            "Requirement already satisfied: jsonpatch<2.0,>=1.33 in /usr/local/lib/python3.11/dist-packages (from langchain-core<1.0.0,>=0.3.34->langchain-community) (1.33)\n",
            "Requirement already satisfied: packaging<25,>=23.2 in /usr/local/lib/python3.11/dist-packages (from langchain-core<1.0.0,>=0.3.34->langchain-community) (24.2)\n",
            "Requirement already satisfied: typing-extensions>=4.7 in /usr/local/lib/python3.11/dist-packages (from langchain-core<1.0.0,>=0.3.34->langchain-community) (4.12.2)\n",
            "Requirement already satisfied: httpx<1,>=0.23.0 in /usr/local/lib/python3.11/dist-packages (from langsmith<0.4,>=0.1.125->langchain-community) (0.28.1)\n",
            "Requirement already satisfied: orjson<4.0.0,>=3.9.14 in /usr/local/lib/python3.11/dist-packages (from langsmith<0.4,>=0.1.125->langchain-community) (3.10.15)\n",
            "Requirement already satisfied: requests-toolbelt<2.0.0,>=1.0.0 in /usr/local/lib/python3.11/dist-packages (from langsmith<0.4,>=0.1.125->langchain-community) (1.0.0)\n",
            "Requirement already satisfied: zstandard<0.24.0,>=0.23.0 in /usr/local/lib/python3.11/dist-packages (from langsmith<0.4,>=0.1.125->langchain-community) (0.23.0)\n",
            "Collecting python-dotenv>=0.21.0 (from pydantic-settings<3.0.0,>=2.4.0->langchain-community)\n",
            "  Downloading python_dotenv-1.0.1-py3-none-any.whl.metadata (23 kB)\n",
            "Requirement already satisfied: charset-normalizer<4,>=2 in /usr/local/lib/python3.11/dist-packages (from requests<3,>=2->langchain-community) (3.4.1)\n",
            "Requirement already satisfied: idna<4,>=2.5 in /usr/local/lib/python3.11/dist-packages (from requests<3,>=2->langchain-community) (3.10)\n",
            "Requirement already satisfied: urllib3<3,>=1.21.1 in /usr/local/lib/python3.11/dist-packages (from requests<3,>=2->langchain-community) (2.3.0)\n",
            "Requirement already satisfied: certifi>=2017.4.17 in /usr/local/lib/python3.11/dist-packages (from requests<3,>=2->langchain-community) (2025.1.31)\n",
            "Requirement already satisfied: greenlet!=0.4.17 in /usr/local/lib/python3.11/dist-packages (from SQLAlchemy<3,>=1.4->langchain-community) (3.1.1)\n",
            "Requirement already satisfied: anyio in /usr/local/lib/python3.11/dist-packages (from httpx<1,>=0.23.0->langsmith<0.4,>=0.1.125->langchain-community) (3.7.1)\n",
            "Requirement already satisfied: httpcore==1.* in /usr/local/lib/python3.11/dist-packages (from httpx<1,>=0.23.0->langsmith<0.4,>=0.1.125->langchain-community) (1.0.7)\n",
            "Requirement already satisfied: h11<0.15,>=0.13 in /usr/local/lib/python3.11/dist-packages (from httpcore==1.*->httpx<1,>=0.23.0->langsmith<0.4,>=0.1.125->langchain-community) (0.14.0)\n",
            "Requirement already satisfied: jsonpointer>=1.9 in /usr/local/lib/python3.11/dist-packages (from jsonpatch<2.0,>=1.33->langchain-core<1.0.0,>=0.3.34->langchain-community) (3.0.0)\n",
            "Requirement already satisfied: annotated-types>=0.6.0 in /usr/local/lib/python3.11/dist-packages (from pydantic<3.0.0,>=2.7.4->langchain<1.0.0,>=0.3.18->langchain-community) (0.7.0)\n",
            "Requirement already satisfied: pydantic-core==2.27.2 in /usr/local/lib/python3.11/dist-packages (from pydantic<3.0.0,>=2.7.4->langchain<1.0.0,>=0.3.18->langchain-community) (2.27.2)\n",
            "Collecting mypy-extensions>=0.3.0 (from typing-inspect<1,>=0.4.0->dataclasses-json<0.7,>=0.5.7->langchain-community)\n",
            "  Downloading mypy_extensions-1.0.0-py3-none-any.whl.metadata (1.1 kB)\n",
            "Requirement already satisfied: sniffio>=1.1 in /usr/local/lib/python3.11/dist-packages (from anyio->httpx<1,>=0.23.0->langsmith<0.4,>=0.1.125->langchain-community) (1.3.1)\n",
            "Downloading langchain_community-0.3.17-py3-none-any.whl (2.5 MB)\n",
            "\u001b[2K   \u001b[90m━━━━━━━━━━━━━━━━━━━━━━━━━━━━━━━━━━━━━━━━\u001b[0m \u001b[32m2.5/2.5 MB\u001b[0m \u001b[31m21.9 MB/s\u001b[0m eta \u001b[36m0:00:00\u001b[0m\n",
            "\u001b[?25hDownloading dataclasses_json-0.6.7-py3-none-any.whl (28 kB)\n",
            "Downloading httpx_sse-0.4.0-py3-none-any.whl (7.8 kB)\n",
            "Downloading langchain-0.3.18-py3-none-any.whl (1.0 MB)\n",
            "\u001b[2K   \u001b[90m━━━━━━━━━━━━━━━━━━━━━━━━━━━━━━━━━━━━━━━━\u001b[0m \u001b[32m1.0/1.0 MB\u001b[0m \u001b[31m24.1 MB/s\u001b[0m eta \u001b[36m0:00:00\u001b[0m\n",
            "\u001b[?25hDownloading langchain_core-0.3.34-py3-none-any.whl (412 kB)\n",
            "\u001b[2K   \u001b[90m━━━━━━━━━━━━━━━━━━━━━━━━━━━━━━━━━━━━━━━━\u001b[0m \u001b[32m413.0/413.0 kB\u001b[0m \u001b[31m9.9 MB/s\u001b[0m eta \u001b[36m0:00:00\u001b[0m\n",
            "\u001b[?25hDownloading pydantic_settings-2.7.1-py3-none-any.whl (29 kB)\n",
            "Downloading langchain_text_splitters-0.3.6-py3-none-any.whl (31 kB)\n",
            "Downloading marshmallow-3.26.1-py3-none-any.whl (50 kB)\n",
            "\u001b[2K   \u001b[90m━━━━━━━━━━━━━━━━━━━━━━━━━━━━━━━━━━━━━━━━\u001b[0m \u001b[32m50.9/50.9 kB\u001b[0m \u001b[31m2.6 MB/s\u001b[0m eta \u001b[36m0:00:00\u001b[0m\n",
            "\u001b[?25hDownloading python_dotenv-1.0.1-py3-none-any.whl (19 kB)\n",
            "Downloading typing_inspect-0.9.0-py3-none-any.whl (8.8 kB)\n",
            "Downloading mypy_extensions-1.0.0-py3-none-any.whl (4.7 kB)\n",
            "Installing collected packages: python-dotenv, mypy-extensions, marshmallow, httpx-sse, typing-inspect, pydantic-settings, dataclasses-json, langchain-core, langchain-text-splitters, langchain, langchain-community\n",
            "  Attempting uninstall: langchain-core\n",
            "    Found existing installation: langchain-core 0.3.33\n",
            "    Uninstalling langchain-core-0.3.33:\n",
            "      Successfully uninstalled langchain-core-0.3.33\n",
            "  Attempting uninstall: langchain-text-splitters\n",
            "    Found existing installation: langchain-text-splitters 0.3.5\n",
            "    Uninstalling langchain-text-splitters-0.3.5:\n",
            "      Successfully uninstalled langchain-text-splitters-0.3.5\n",
            "  Attempting uninstall: langchain\n",
            "    Found existing installation: langchain 0.3.17\n",
            "    Uninstalling langchain-0.3.17:\n",
            "      Successfully uninstalled langchain-0.3.17\n",
            "Successfully installed dataclasses-json-0.6.7 httpx-sse-0.4.0 langchain-0.3.18 langchain-community-0.3.17 langchain-core-0.3.34 langchain-text-splitters-0.3.6 marshmallow-3.26.1 mypy-extensions-1.0.0 pydantic-settings-2.7.1 python-dotenv-1.0.1 typing-inspect-0.9.0\n"
          ]
        }
      ],
      "source": [
        "!pip install -U langchain-community"
      ]
    },
    {
      "cell_type": "code",
      "source": [
        "# from langchain.agents import create_sql_agent\n",
        "# from langchain.chat_models import ChatOpenAI\n",
        "# from langchain.sql_database import SQLDatabase\n",
        "# import sqlite3\n",
        "\n",
        "from langchain.agents import create_sql_agent\n",
        "from langchain.chat_models import ChatOpenAI\n",
        "from langchain.sql_database import SQLDatabase\n",
        "from langchain.agents.agent_toolkits import SQLDatabaseToolkit\n",
        "import sqlite3"
      ],
      "metadata": {
        "id": "TqRb2cPnieDx"
      },
      "execution_count": null,
      "outputs": []
    },
    {
      "cell_type": "code",
      "source": [
        "# Step 1: Set up a sample SQLite database\n",
        "def create_sample_database():\n",
        "    connection = sqlite3.connect(\"sample.db\")\n",
        "    cursor = connection.cursor()\n",
        "\n",
        "    # Create tables\n",
        "    cursor.execute(\"\"\"\n",
        "    CREATE TABLE IF NOT EXISTS startups (\n",
        "        id INTEGER PRIMARY KEY,\n",
        "        name TEXT,\n",
        "        domain TEXT,\n",
        "        founding_year INTEGER\n",
        "    )\n",
        "    \"\"\")\n",
        "    cursor.execute(\"\"\"\n",
        "    CREATE TABLE IF NOT EXISTS founders (\n",
        "        id INTEGER PRIMARY KEY,\n",
        "        name TEXT,\n",
        "        startup_id INTEGER,\n",
        "        FOREIGN KEY (startup_id) REFERENCES startups (id)\n",
        "    )\n",
        "    \"\"\")\n",
        "    cursor.execute(\"\"\"\n",
        "    CREATE TABLE IF NOT EXISTS founders_details (\n",
        "        id INTEGER PRIMARY KEY,\n",
        "        full_name TEXT,\n",
        "        location TEXT,\n",
        "        contact TEXT,\n",
        "        email_id TEXT,\n",
        "        founders_id INTEGER,\n",
        "        FOREIGN KEY (founders_id) REFERENCES founders (id)\n",
        "    )\n",
        "    \"\"\")\n",
        "\n",
        "    # Insert sample data\n",
        "    cursor.execute(\"INSERT INTO startups (name, domain, founding_year) VALUES ('HealthAI', 'healthcare', 2021)\")\n",
        "    cursor.execute(\"INSERT INTO startups (name, domain, founding_year) VALUES ('MediTech', 'healthcare', 2019)\")\n",
        "    cursor.execute(\"INSERT INTO startups (name, domain, founding_year) VALUES ('AIWorks', 'finance', 2022)\")\n",
        "    cursor.execute(\"INSERT INTO startups (name, domain, founding_year) VALUES ('AVHealthCareAI', 'healthcare', 2024)\")\n",
        "\n",
        "    cursor.execute(\"INSERT INTO founders (name, startup_id) VALUES ('Alice', 1)\")\n",
        "    cursor.execute(\"INSERT INTO founders (name, startup_id) VALUES ('Bob', 2)\")\n",
        "    cursor.execute(\"INSERT INTO founders (name, startup_id) VALUES ('Charlie', 3)\")\n",
        "    cursor.execute(\"INSERT INTO founders (name, startup_id) VALUES ('Anand', 4)\")\n",
        "\n",
        "    cursor.execute(\"INSERT INTO founders_details (full_name, location, contact, email_id, founders_id) VALUES ('Alice Johnson','Kenya', '+254 2393234','alice@gmail.com', 1)\")\n",
        "    cursor.execute(\"INSERT INTO founders_details (full_name, location, contact, email_id, founders_id) VALUES ('Bob Marly','Bandra', '+91 709239234','bob@gmail.com', 2)\")\n",
        "    cursor.execute(\"INSERT INTO founders_details (full_name, location, contact, email_id, founders_id) VALUES ('Charlie Champs','Andheri', '+91 77123428644','charlie@gmail.com', 3)\")\n",
        "    cursor.execute(\"INSERT INTO founders_details (full_name, location, contact, email_id, founders_id) VALUES ('Anand Vishwakarma','Thane', '+91 88338822944','anand.j.vishwakarma@gmail.com', 4)\")\n",
        "\n",
        "    connection.commit()\n",
        "    connection.close()"
      ],
      "metadata": {
        "id": "8hFX2Gf4iMCE"
      },
      "execution_count": null,
      "outputs": []
    },
    {
      "cell_type": "code",
      "source": [
        "# Step 2: Initialize the LangChain SQL agent\n",
        "def initialize_agent():\n",
        "    # Connect to the SQLite database\n",
        "    db = SQLDatabase.from_uri(\"sqlite:///sample.db\")\n",
        "    llm = ChatOpenAI(model=\"gpt-4\", temperature=0)\n",
        "    toolkit = SQLDatabaseToolkit(db=db, llm=llm)\n",
        "    agent = create_sql_agent(\n",
        "        llm=llm,\n",
        "        toolkit=toolkit,\n",
        "        verbose=True\n",
        "    )\n",
        "    return agent"
      ],
      "metadata": {
        "id": "KNvZSDcjiPgY"
      },
      "execution_count": null,
      "outputs": []
    },
    {
      "cell_type": "code",
      "source": [
        "# Step 3: Query the agent\n",
        "def query_agent(agent, query):\n",
        "    response = agent.run(query)\n",
        "    print(\"\\n### Response ###\")\n",
        "    print(response)"
      ],
      "metadata": {
        "id": "XNbe7elxiomD"
      },
      "execution_count": null,
      "outputs": []
    },
    {
      "cell_type": "code",
      "source": [
        "create_sample_database()"
      ],
      "metadata": {
        "id": "yyjaBOqbisuN"
      },
      "execution_count": null,
      "outputs": []
    },
    {
      "cell_type": "code",
      "source": [
        "from google.colab import userdata\n",
        "my_secret_key = userdata.get('OPENAI_API_KEY')\n",
        "\n",
        "# Set OpenAI API key\n",
        "import os\n",
        "os.environ[\"OPENAI_API_KEY\"] = userdata.get('OPENAI_API_KEY')"
      ],
      "metadata": {
        "id": "7baIMFpyjlj8"
      },
      "execution_count": null,
      "outputs": []
    },
    {
      "cell_type": "code",
      "source": [
        "# Initialize the multi-hop agent\n",
        "agent = initialize_agent()"
      ],
      "metadata": {
        "colab": {
          "base_uri": "https://localhost:8080/"
        },
        "id": "alnVvw7CixWg",
        "outputId": "4ff7d511-8797-41be-a907-29ed022470dd"
      },
      "execution_count": null,
      "outputs": [
        {
          "output_type": "stream",
          "name": "stderr",
          "text": [
            "<ipython-input-4-6be8a4577b95>:5: LangChainDeprecationWarning: The class `ChatOpenAI` was deprecated in LangChain 0.0.10 and will be removed in 1.0. An updated version of the class exists in the :class:`~langchain-openai package and should be used instead. To use it run `pip install -U :class:`~langchain-openai` and import as `from :class:`~langchain_openai import ChatOpenAI``.\n",
            "  llm = ChatOpenAI(model=\"gpt-4\", temperature=0)\n"
          ]
        }
      ]
    },
    {
      "cell_type": "code",
      "source": [
        "# Example query: Multi-hop reasoning\n",
        "query = \"\"\"\n",
        "Which startups founded after 2020 are working in the healthcare domain,\n",
        "and who are their founders? Also, can you provide their contact details, emails and their region.\n",
        "\"\"\"\n",
        "\n",
        "query_agent(agent, query)"
      ],
      "metadata": {
        "colab": {
          "base_uri": "https://localhost:8080/"
        },
        "id": "6bYxmbCFiyly",
        "outputId": "0a57d2ed-803c-4f5c-d181-7e8d43c0b47f"
      },
      "execution_count": null,
      "outputs": [
        {
          "output_type": "stream",
          "name": "stdout",
          "text": [
            "\n",
            "\n",
            "\u001b[1m> Entering new SQL Agent Executor chain...\u001b[0m\n",
            "\u001b[32;1m\u001b[1;3mAction: sql_db_list_tables\n",
            "Action Input: \"\"\u001b[0m\u001b[38;5;200m\u001b[1;3mfounders, founders_details, startups\u001b[0m\u001b[32;1m\u001b[1;3mThe tables \"founders\", \"founders_details\", and \"startups\" seem relevant to the question. I should check their schemas to understand their structure and the data they contain.\n",
            "Action: sql_db_schema\n",
            "Action Input: \"founders, founders_details, startups\"\u001b[0m\u001b[33;1m\u001b[1;3m\n",
            "CREATE TABLE founders (\n",
            "\tid INTEGER, \n",
            "\tname TEXT, \n",
            "\tstartup_id INTEGER, \n",
            "\tPRIMARY KEY (id), \n",
            "\tFOREIGN KEY(startup_id) REFERENCES startups (id)\n",
            ")\n",
            "\n",
            "/*\n",
            "3 rows from founders table:\n",
            "id\tname\tstartup_id\n",
            "1\tAlice\t1\n",
            "2\tBob\t2\n",
            "3\tCharlie\t3\n",
            "*/\n",
            "\n",
            "\n",
            "CREATE TABLE founders_details (\n",
            "\tid INTEGER, \n",
            "\tfull_name TEXT, \n",
            "\tlocation TEXT, \n",
            "\tcontact TEXT, \n",
            "\temail_id TEXT, \n",
            "\tfounders_id INTEGER, \n",
            "\tPRIMARY KEY (id), \n",
            "\tFOREIGN KEY(founders_id) REFERENCES founders (id)\n",
            ")\n",
            "\n",
            "/*\n",
            "3 rows from founders_details table:\n",
            "id\tfull_name\tlocation\tcontact\temail_id\tfounders_id\n",
            "1\tAlice Johnson\tKenya\t+254 2393234\talice@gmail.com\t1\n",
            "2\tBob Marly\tBandra\t+91 709239234\tbob@gmail.com\t2\n",
            "3\tCharlie Champs\tAndheri\t+91 77123428644\tcharlie@gmail.com\t3\n",
            "*/\n",
            "\n",
            "\n",
            "CREATE TABLE startups (\n",
            "\tid INTEGER, \n",
            "\tname TEXT, \n",
            "\tdomain TEXT, \n",
            "\tfounding_year INTEGER, \n",
            "\tPRIMARY KEY (id)\n",
            ")\n",
            "\n",
            "/*\n",
            "3 rows from startups table:\n",
            "id\tname\tdomain\tfounding_year\n",
            "1\tHealthAI\thealthcare\t2021\n",
            "2\tMediTech\thealthcare\t2019\n",
            "3\tAIWorks\tfinance\t2022\n",
            "*/\u001b[0m\u001b[32;1m\u001b[1;3mThe \"startups\" table contains the domain and founding year of the startups, which are relevant to the question. The \"founders\" table links the founders to the startups, and the \"founders_details\" table contains the contact details of the founders. I can join these tables on their respective keys to get the required information. I will write a query to get the startup name, founder name, contact details, email, and region for startups founded after 2020 in the healthcare domain. I will limit the results to 10 and order them by the founding year of the startup.\n",
            "Action: sql_db_query_checker\n",
            "Action Input: \"SELECT startups.name AS startup_name, founders_details.full_name AS founder_name, founders_details.contact, founders_details.email_id, founders_details.location FROM startups JOIN founders ON startups.id = founders.startup_id JOIN founders_details ON founders.id = founders_details.founders_id WHERE startups.founding_year > 2020 AND startups.domain = 'healthcare' ORDER BY startups.founding_year LIMIT 10\"\u001b[0m\u001b[36;1m\u001b[1;3mSELECT startups.name AS startup_name, founders_details.full_name AS founder_name, founders_details.contact, founders_details.email_id, founders_details.location FROM startups JOIN founders ON startups.id = founders.startup_id JOIN founders_details ON founders.id = founders_details.founders_id WHERE startups.founding_year > 2020 AND startups.domain = 'healthcare' ORDER BY startups.founding_year LIMIT 10\u001b[0m\u001b[32;1m\u001b[1;3mThe query is correct. Now I can execute it to get the required information.\n",
            "Action: sql_db_query\n",
            "Action Input: \"SELECT startups.name AS startup_name, founders_details.full_name AS founder_name, founders_details.contact, founders_details.email_id, founders_details.location FROM startups JOIN founders ON startups.id = founders.startup_id JOIN founders_details ON founders.id = founders_details.founders_id WHERE startups.founding_year > 2020 AND startups.domain = 'healthcare' ORDER BY startups.founding_year LIMIT 10\"\u001b[0m\u001b[36;1m\u001b[1;3m[('HealthAI', 'Alice Johnson', '+254 2393234', 'alice@gmail.com', 'Kenya'), ('AVHealthCareAI', 'Anand Vishwakarma', '+91 88338822944', 'anand.j.vishwakarma@gmail.com', 'Thane')]\u001b[0m\u001b[32;1m\u001b[1;3mI now know the final answer.\n",
            "Final Answer: Here are the startups founded after 2020 in the healthcare domain, along with their founders and contact details:\n",
            "\n",
            "1. Startup: HealthAI\n",
            "   Founder: Alice Johnson\n",
            "   Contact: +254 2393234\n",
            "   Email: alice@gmail.com\n",
            "   Location: Kenya\n",
            "\n",
            "2. Startup: AVHealthCareAI\n",
            "   Founder: Anand Vishwakarma\n",
            "   Contact: +91 88338822944\n",
            "   Email: anand.j.vishwakarma@gmail.com\n",
            "   Location: Thane\u001b[0m\n",
            "\n",
            "\u001b[1m> Finished chain.\u001b[0m\n",
            "\n",
            "### Response ###\n",
            "Here are the startups founded after 2020 in the healthcare domain, along with their founders and contact details:\n",
            "\n",
            "1. Startup: HealthAI\n",
            "   Founder: Alice Johnson\n",
            "   Contact: +254 2393234\n",
            "   Email: alice@gmail.com\n",
            "   Location: Kenya\n",
            "\n",
            "2. Startup: AVHealthCareAI\n",
            "   Founder: Anand Vishwakarma\n",
            "   Contact: +91 88338822944\n",
            "   Email: anand.j.vishwakarma@gmail.com\n",
            "   Location: Thane\n"
          ]
        }
      ]
    },
    {
      "cell_type": "code",
      "source": [],
      "metadata": {
        "id": "d3B_jdfUkw_Y"
      },
      "execution_count": null,
      "outputs": []
    }
  ]
}